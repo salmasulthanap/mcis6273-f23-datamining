{
 "cells": [
  {
   "cell_type": "code",
   "execution_count": 2,
   "id": "a581c50b-5b72-41cb-9b71-0afa6a0e37f3",
   "metadata": {},
   "outputs": [],
   "source": [
    "import pandas as pd\n",
    "\n",
    "# reading csv data and creating dataframe\n",
    "df = pd.read_csv('REFUSAL_ENTRY_2014-November2023.csv', encoding='ISO-8859-1')\n",
    "\n",
    "# Group by the specified columns and count the violations\n",
    "violations_count = df.groupby(['ISO_CNTRY_CODE', 'PROVINCE_STATE', 'CITY_NAME']).count().loc[:, ['ENTRY_NUM']]\n",
    "\n",
    "# Save to CSV\n",
    "violations_count.to_csv('country_violations_2014-2023.csv')\n"
   ]
  },
  {
   "cell_type": "code",
   "execution_count": 4,
   "id": "0427ff7f-6958-4c71-9e39-39ae55642dac",
   "metadata": {},
   "outputs": [],
   "source": [
    "import pandas as pd\n",
    "\n",
    "# reading csv data and creating dataframe\n",
    "df = pd.read_csv('REFUSAL_ENTRY_2014-November2023.csv', encoding='ISO-8859-1')\n",
    "\n",
    "# Convert 'REFUSAL_DATE' to datetime and extract year and month\n",
    "df['REFUSAL_DATE'] = pd.to_datetime(df['REFUSAL_DATE'])\n",
    "df['YEAR'] = df['REFUSAL_DATE'].dt.year\n",
    "df['MONTH'] = df['REFUSAL_DATE'].dt.month\n",
    "\n",
    "# Group by the specified columns and count the violations\n",
    "violations_count = df.groupby(['YEAR', 'MONTH', 'ISO_CNTRY_CODE', 'PROVINCE_STATE', 'CITY_NAME']).count().loc[:, ['ENTRY_NUM']]\n",
    "\n",
    "# Save to CSV\n",
    "violations_count.to_csv('country_violations_year_month_2014-2023.csv')\n"
   ]
  },
  {
   "cell_type": "code",
   "execution_count": 5,
   "id": "9cd45804-6a51-459b-b5da-6ceda6729b20",
   "metadata": {},
   "outputs": [
    {
     "name": "stdout",
     "output_type": "stream",
     "text": [
      "The most violations in a single month were in Ciudad De Mexico, Ciudad de Mexico, MX.\n",
      "There were 612 violations in 4/2022.\n"
     ]
    }
   ],
   "source": [
    "import pandas as pd\n",
    "\n",
    "# Loading grouped and counted dataset\n",
    "df = pd.read_csv('country_violations_year_month_2014-2023.csv')\n",
    "\n",
    "# Sort by the count of violations in descending order and select the top row\n",
    "max_violations_row = df.sort_values('ENTRY_NUM', ascending=False).iloc[0]\n",
    "\n",
    "# Extract the details\n",
    "city = max_violations_row['CITY_NAME']\n",
    "province = max_violations_row['PROVINCE_STATE']\n",
    "country = max_violations_row['ISO_CNTRY_CODE']\n",
    "violations_count = max_violations_row['ENTRY_NUM']\n",
    "year = max_violations_row['YEAR']\n",
    "month = max_violations_row['MONTH']\n",
    "\n",
    "print(f\"The most violations in a single month were in {city}, {province}, {country}.\")\n",
    "print(f\"There were {violations_count} violations in {month}/{year}.\")\n"
   ]
  },
  {
   "cell_type": "code",
   "execution_count": 6,
   "id": "ace31926-b8ba-4710-bf6a-d4025aa788ce",
   "metadata": {},
   "outputs": [
    {
     "name": "stdout",
     "output_type": "stream",
     "text": [
      "SUNGLASSES (NON-PRESCRIPTION INCLUDING PHOTOSENSITIVE)                                               575\n",
      "MISCELLANEOUS PATENT MEDICINES, ETC.                                                                 433\n",
      "VITAMIN, MINERAL, PROTEINS AND UNCONVENTIONAL DIETARY SPECIALITIES FOR HUMANS AND ANIMALS, N.E.C.    298\n",
      "TUNA (ALBACORE, YELLOWFIN, BLUEFIN, SKIPJACK, ETC.)                                                  244\n",
      "HERBALS & BOTANICALS (NOT TEAS), N.E.C.                                                              237\n",
      "MAHI MAHI                                                                                            190\n",
      "ULTRAVIOLET SCREEN/SUNSCREEN N.E.C.                                                                  183\n",
      "GLOVE, PATIENT EXAMINATION, POLY                                                                     173\n",
      "BATH SOAPS AND DETERGENTS (NOT ANTIPERSPIRANT) (PERSONAL CLEANLINESS)                                172\n",
      "LENSES, SOFT CONTACT, DAILY WEAR                                                                     154\n",
      "Name: PRDCT_CODE_DESC_TEXT, dtype: int64\n"
     ]
    }
   ],
   "source": [
    "import pandas as pd\n",
    "\n",
    "# reading csv data and creating dataframe\n",
    "df = pd.read_csv('REFUSAL_ENTRY_2014-November2023.csv', encoding='ISO-8859-1')\n",
    "\n",
    "# Ensure 'REFUSAL_DATE' is in datetime format and extract the year\n",
    "df['REFUSAL_DATE'] = pd.to_datetime(df['REFUSAL_DATE'])\n",
    "df['YEAR'] = df['REFUSAL_DATE'].dt.year\n",
    "\n",
    "# Filter data for the year 2018\n",
    "df_2018 = df[df['YEAR'] == 2018]\n",
    "\n",
    "# Count the frequency of products in 2018\n",
    "product_frequencies = df_2018['PRDCT_CODE_DESC_TEXT'].value_counts()\n",
    "\n",
    "# Select the top 10 most frequent products\n",
    "top_10_products = product_frequencies.head(10)\n",
    "\n",
    "print(top_10_products)\n"
   ]
  },
  {
   "cell_type": "code",
   "execution_count": 9,
   "id": "272c0090-1137-4f8b-a9d0-ed8e02fd7625",
   "metadata": {},
   "outputs": [
    {
     "name": "stdout",
     "output_type": "stream",
     "text": [
      "The company associated with the largest violation in a single month is: COMERCIALIZADORA PEPSICO\n"
     ]
    }
   ],
   "source": [
    "import pandas as pd\n",
    "\n",
    "# reading csv data and creating dataframe\n",
    "df = pd.read_csv('REFUSAL_ENTRY_2014-November2023.csv', encoding='ISO-8859-1')\n",
    "\n",
    "# Convert 'REFUSAL_DATE' to datetime and extract year and month\n",
    "df['REFUSAL_DATE'] = pd.to_datetime(df['REFUSAL_DATE'])\n",
    "df['YEAR'] = df['REFUSAL_DATE'].dt.year\n",
    "df['MONTH'] = df['REFUSAL_DATE'].dt.month\n",
    "\n",
    "# Group by relevant columns including company and count the violations\n",
    "grouped_data = df.groupby(['YEAR', 'MONTH', 'ISO_CNTRY_CODE', 'PROVINCE_STATE', 'CITY_NAME', 'LGL_NAME']).count().reset_index()\n",
    "\n",
    "# Sort by the count of violations in descending order and select the top record\n",
    "largest_violation = grouped_data.sort_values('ENTRY_NUM', ascending=False).iloc[0]\n",
    "\n",
    "# Extract the company name\n",
    "company_with_largest_violation = largest_violation['LGL_NAME']\n",
    "\n",
    "print(f\"The company associated with the largest violation in a single month is: {company_with_largest_violation}\")\n"
   ]
  },
  {
   "cell_type": "code",
   "execution_count": 2,
   "id": "6318c6c8-2a25-43bf-898d-0bbb3b927209",
   "metadata": {},
   "outputs": [
    {
     "name": "stdout",
     "output_type": "stream",
     "text": [
      "The ISO_CNTRY_CODE DataFrame has 149 columns\n",
      "The PROVINCE_STATE DataFrame has 2957 columns\n",
      "The REFUSAL_CHARGES DataFrame has 425 columns\n"
     ]
    }
   ],
   "source": [
    "import pandas as pd\n",
    "from sklearn.preprocessing import LabelBinarizer, MultiLabelBinarizer\n",
    "\n",
    "# reading csv data and creating dataframe\n",
    "df = pd.read_csv('REFUSAL_ENTRY_2014-November2023.csv', encoding='ISO-8859-1')\n",
    "\n",
    "df = df[['REFUSAL_CHARGES', 'ISO_CNTRY_CODE', 'PROVINCE_STATE']]\n",
    "df = df.dropna(subset=['PROVINCE_STATE'])\n",
    "\n",
    "sample_size = int(len(df) * 0.25)  # Adjust this percentage as needed\n",
    "combined_df = df.sample(n=sample_size)\n",
    "\n",
    "# Binarize ISO_CNTRY_CODE\n",
    "lb_iso = LabelBinarizer()\n",
    "iso_binarized = lb_iso.fit_transform(df['ISO_CNTRY_CODE'])\n",
    "# Convert to DataFrame\n",
    "df_iso_binarized = pd.DataFrame(iso_binarized, columns=lb_iso.classes_)\n",
    "\n",
    "# Binarize PROVINCE_STATE\n",
    "lb_province = LabelBinarizer()\n",
    "province_binarized = lb_province.fit_transform(df['PROVINCE_STATE'])\n",
    "# Convert to DataFrame\n",
    "df_province_binarized = pd.DataFrame(province_binarized, columns=lb_province.classes_)\n",
    "\n",
    "# charges_split = df['REFUSAL_CHARGES'].str.split(',')\n",
    "# Assuming REFUSAL_CHARGES is a list of charges\n",
    "mlb = MultiLabelBinarizer()\n",
    "# charges_binarized = mlb.fit_transform(charges_split)\n",
    "charges_binarized = mlb.fit_transform(df['REFUSAL_CHARGES'].apply(lambda x: x.split(',')))\n",
    "# Convert to DataFrame\n",
    "df_charges_binarized = pd.DataFrame(charges_binarized, columns=mlb.classes_)\n",
    "\n",
    "print(f\"The ISO_CNTRY_CODE DataFrame has {df_iso_binarized.shape[1]} columns\")\n",
    "print(f\"The PROVINCE_STATE DataFrame has {df_province_binarized.shape[1]} columns\")\n",
    "print(f\"The REFUSAL_CHARGES DataFrame has {df_charges_binarized.shape[1]} columns\")\n",
    "\n",
    "# Combine all features into one DataFrame\n",
    "combined_df = pd.concat([df_charges_binarized, df_iso_binarized, df_province_binarized], axis=1)\n"
   ]
  },
  {
   "cell_type": "code",
   "execution_count": 3,
   "id": "db863b74-bfca-427e-b940-600c63bb2393",
   "metadata": {},
   "outputs": [
    {
     "name": "stdout",
     "output_type": "stream",
     "text": [
      "Centroids for 5 clusters:\n",
      "[[ 5.21557719e-04  1.42243014e-04  6.32191175e-05 ...  3.16095587e-05\n",
      "   4.74143381e-05  1.58047794e-05]\n",
      " [ 1.53010481e-04  7.65052406e-05 -8.67361738e-19 ...  4.64174055e-19\n",
      "   7.65052406e-05  2.32087028e-19]\n",
      " [-5.80048162e-18  2.33103467e-18  2.91379334e-19 ...  2.77826807e-19\n",
      "   5.55653613e-19  1.38913403e-19]\n",
      " [ 4.77048956e-18  2.68340038e-18  1.23831342e-04 ...  5.08219768e-19\n",
      "   1.01643954e-18  2.54109884e-19]\n",
      " [ 1.59693389e-04  7.18620249e-04 -6.97955149e-19 ...  4.57397792e-19\n",
      "   9.14795583e-19  2.28698896e-19]]\n",
      "Centroids for 10 clusters:\n",
      "[[ 5.31312805e-04  2.31005567e-05  4.62011134e-05 ... -1.83297930e-18\n",
      "  -3.66595860e-18  2.31005567e-05]\n",
      " [-5.85469173e-18  3.20076818e-04 -6.84402621e-19 ...  4.57397792e-19\n",
      "   2.40057614e-04  2.28698896e-19]\n",
      " [ 1.75623463e-04  8.78117316e-05 -2.77826807e-19 ...  4.33680869e-19\n",
      "   8.67361738e-19  2.16840434e-19]\n",
      " ...\n",
      " [-4.55364912e-18  2.14129929e-18 -1.35525272e-19 ...  1.79570985e-19\n",
      "   3.59141970e-19  8.97854924e-20]\n",
      " [ 1.46367293e-18  7.87091696e-04  7.87091696e-04 ... -1.15196481e-19\n",
      "  -2.30392962e-19 -5.75982404e-20]\n",
      " [-7.26415456e-18  2.49366500e-18  6.57297567e-19 ...  3.79470760e-19\n",
      "   7.58941521e-19  1.89735380e-19]]\n",
      "Centroids for 12 clusters:\n",
      "[[ 7.50750751e-04  3.26413370e-05  6.52826740e-05 ... -6.77626358e-21\n",
      "  -1.35525272e-20  3.26413370e-05]\n",
      " [ 4.48631673e-04  1.12157918e-04  1.12157918e-04 ...  2.24315837e-04\n",
      "   1.12157918e-04  1.82959117e-19]\n",
      " [-5.42101086e-18  2.24971951e-18  1.49077799e-19 ...  2.43945489e-19\n",
      "   4.87890978e-19  1.21972744e-19]\n",
      " ...\n",
      " [-1.62630326e-18  2.65629532e-18 -1.10453096e-18 ...  4.77726582e-19\n",
      "   9.55453165e-19  2.38863291e-19]\n",
      " [ 1.51788304e-18  1.21972744e-18 -5.42101086e-20 ... -1.21972744e-19\n",
      "  -2.43945489e-19 -6.09863722e-20]\n",
      " [-4.82469967e-18  2.16840434e-18 -4.06575815e-20 ...  1.99899776e-19\n",
      "   3.99799551e-19  9.99498878e-20]]\n"
     ]
    }
   ],
   "source": [
    "import pandas as pd\n",
    "from sklearn.cluster import KMeans\n",
    "\n",
    "# A function to perform K-Means and print centroids\n",
    "def perform_kmeans(data, n_clusters):\n",
    "    kmeans = KMeans(n_clusters=n_clusters, random_state=42)\n",
    "    kmeans.fit(data)\n",
    "    centroids = kmeans.cluster_centers_\n",
    "\n",
    "    print(f\"Centroids for {n_clusters} clusters:\")\n",
    "    print(centroids)\n",
    "    # Add more code here if you want to interpret or further analyze the centroids\n",
    "\n",
    "# Perform K-Means for k=5, 10, 12\n",
    "for k in [5, 10, 12]:\n",
    "    perform_kmeans(combined_df, k)\n"
   ]
  },
  {
   "cell_type": "code",
   "execution_count": 4,
   "id": "41f129bd-2853-4df3-8d8e-2d29dfb61e45",
   "metadata": {},
   "outputs": [
    {
     "data": {
      "image/png": "[encoded data removed]",
      "text/plain": [
       "<Figure size 1000x600 with 1 Axes>"
      ]
     },
     "metadata": {},
     "output_type": "display_data"
    }
   ],
   "source": [
    "import matplotlib.pyplot as plt\n",
    "# Standardizing the data (if not already done)\n",
    "from sklearn.preprocessing import StandardScaler\n",
    "scaler = StandardScaler()\n",
    "d = scaler.fit_transform(combined_df)\n",
    "\n",
    "# Elbow Method Analysis\n",
    "max_clusters = 15\n",
    "css = []  # Within cluster sum of squares\n",
    "\n",
    "for k in range(1, max_clusters):\n",
    "    kmeans = KMeans(n_clusters=k, init='k-means++', max_iter=200, n_init=10, random_state=0)\n",
    "    kmeans.fit(d)\n",
    "    css.append(kmeans.inertia_)\n",
    "\n",
    "# Plotting the Elbow Graph\n",
    "plt.figure(figsize=(10, 6))\n",
    "plt.plot(range(1, max_clusters), css, marker='o')\n",
    "plt.title('Elbow Method')\n",
    "plt.xlabel('Number of clusters')\n",
    "plt.ylabel('CSS (Within cluster sum of squares)')\n",
    "plt.show()"
   ]
  },
  {
   "cell_type": "code",
   "execution_count": null,
   "id": "1abe5cd4-4d4c-4801-8953-8700a0dbda88",
   "metadata": {},
   "outputs": [],
   "source": []
  }
 ],
 "metadata": {
  "kernelspec": {
   "display_name": "Python 3 (ipykernel)",
   "language": "python",
   "name": "python3"
  },
  "language_info": {
   "codemirror_mode": {
    "name": "ipython",
    "version": 3
   },
   "file_extension": ".py",
   "mimetype": "text/x-python",
   "name": "python",
   "nbconvert_exporter": "python",
   "pygments_lexer": "ipython3",
   "version": "3.9.13"
  }
 },
 "nbformat": 4,
 "nbformat_minor": 5
}
